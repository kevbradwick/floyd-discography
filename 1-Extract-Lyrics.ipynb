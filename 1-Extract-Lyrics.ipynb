{
 "cells": [
  {
   "cell_type": "code",
   "execution_count": 51,
   "metadata": {},
   "outputs": [],
   "source": [
    "import yaml\n",
    "import pandas as pd\n",
    "from yaml.loader import SafeLoader\n",
    "\n",
    "with open(\"./data/lyrics.yml\", \"r\") as fp:\n",
    "    all_lyrics = yaml.load(fp, Loader=SafeLoader)\n",
    "\n",
    "lyrics_df = pd.DataFrame(all_lyrics)\n",
    "tracks_df = pd.read_csv(\"./data/pink-floyd-tracks-stage3.csv\")\n",
    "lyrics_df = lyrics_df.rename(columns={\"id\": \"track_id\"})\n",
    "lyrics_df = lyrics_df[[\"track_id\", \"instrumental\", \"lyrics\"]]\n",
    "tracks_df = tracks_df.set_index(\"track_id\")\n",
    "df = lyrics_df.join(tracks_df, on=\"track_id\")\n",
    "df.to_pickle(\"./data/pink-floyd-tracks-and-lyrics.pkl\")\n",
    "# df\n"
   ]
  }
 ],
 "metadata": {
  "kernelspec": {
   "display_name": "Python 3",
   "language": "python",
   "name": "python3"
  },
  "language_info": {
   "codemirror_mode": {
    "name": "ipython",
    "version": 3
   },
   "file_extension": ".py",
   "mimetype": "text/x-python",
   "name": "python",
   "nbconvert_exporter": "python",
   "pygments_lexer": "ipython3",
   "version": "3.11.1"
  },
  "orig_nbformat": 4,
  "vscode": {
   "interpreter": {
    "hash": "13bf36530e42b2989b929b146028e6310e668dae5eb4b63335cb33f55c44628a"
   }
  }
 },
 "nbformat": 4,
 "nbformat_minor": 2
}
